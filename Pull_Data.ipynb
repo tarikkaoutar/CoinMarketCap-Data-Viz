{
 "cells": [
  {
   "cell_type": "code",
   "execution_count": 1,
   "metadata": {},
   "outputs": [
    {
     "name": "stdout",
     "output_type": "stream",
     "text": [
      "                   priceUsd           time                      date\n",
      "0     9312.2640975682276296  1592611200000  2020-06-20T00:00:00.000Z\n",
      "1     9360.6954642839445347  1592697600000  2020-06-21T00:00:00.000Z\n",
      "2     9485.7188617077539610  1592784000000  2020-06-22T00:00:00.000Z\n",
      "3     9643.1446484795214109  1592870400000  2020-06-23T00:00:00.000Z\n",
      "4     9455.9143261593911834  1592956800000  2020-06-24T00:00:00.000Z\n",
      "..                      ...            ...                       ...\n",
      "240  47862.7378154633944688  1613347200000  2021-02-15T00:00:00.000Z\n",
      "241  48845.9356663705238983  1613433600000  2021-02-16T00:00:00.000Z\n",
      "242  50915.6299749834936216  1613520000000  2021-02-17T00:00:00.000Z\n",
      "243  51904.8720715086917200  1613606400000  2021-02-18T00:00:00.000Z\n",
      "244  53076.0589422965914757  1613692800000  2021-02-19T00:00:00.000Z\n",
      "\n",
      "[245 rows x 3 columns]\n"
     ]
    }
   ],
   "source": [
    "import requests\n",
    "import json\n",
    "import pandas as pd\n",
    "import matplotlib.pyplot as plt\n",
    "import seaborn as sns\n",
    "URL = 'http://api.coincap.io/v2/assets/bitcoin/history?interval=d1&start=1592585794000&end=1613753794000'\n",
    "response = requests.get(URL)\n",
    "if response.status_code != 200:\n",
    "  print('Error:', response.status_code)\n",
    "else:\n",
    "    data = json.loads(response.text)\n",
    "    # print(json.dumps(data, indent=4))\n",
    "\n",
    "    # extract the data from the response\n",
    "    values = [(d['priceUsd'], d['time'], d['date']) for d in data['data']]\n",
    "\n",
    "    df = pd.DataFrame(values, columns=['priceUsd', 'time', 'date'])\n",
    "\n",
    "    # # # # # # display the DataFrame\n",
    "    print(df)\n",
    "# Print summary statistics\n",
    "print(df.describe())\n",
    "\n",
    "# Plot time series of Bitcoin price\n",
    "fig, ax = plt.subplots(figsize=(12, 6))\n",
    "sns.lineplot(x=\"time\", y=\"priceUsd\", data=df, ax=ax)\n",
    "ax.set(title=\"Bitcoin Price Over Time\", xlabel=\"Date\", ylabel=\"Price (USD)\")\n",
    "plt.show()\n",
    "\n",
    "# Plot distribution of Bitcoin price\n",
    "fig, ax = plt.subplots(figsize=(8, 6))\n",
    "sns.histplot(data=df, x=\"priceUsd\", kde=True, ax=ax)\n",
    "ax.set(title=\"Distribution of Bitcoin Price\", xlabel=\"Price (USD)\")\n",
    "plt.show()"
   ]
  },
  {
   "cell_type": "code",
   "execution_count": null,
   "metadata": {},
   "outputs": [],
   "source": []
  }
 ],
 "metadata": {
  "kernelspec": {
   "display_name": "Python 3",
   "language": "python",
   "name": "python3"
  },
  "language_info": {
   "codemirror_mode": {
    "name": "ipython",
    "version": 3
   },
   "file_extension": ".py",
   "mimetype": "text/x-python",
   "name": "python",
   "nbconvert_exporter": "python",
   "pygments_lexer": "ipython3",
   "version": "3.10.6"
  },
  "orig_nbformat": 4,
  "vscode": {
   "interpreter": {
    "hash": "52bf840965e2bb9b4a4a597845c95d951d53a114dec2bd2b3c14f82c48b23d8a"
   }
  }
 },
 "nbformat": 4,
 "nbformat_minor": 2
}
